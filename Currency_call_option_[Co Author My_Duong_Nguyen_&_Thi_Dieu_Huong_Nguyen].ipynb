{
 "cells": [
  {
   "cell_type": "markdown",
   "id": "916cd9d9",
   "metadata": {},
   "source": [
    "# FINANCIAL ENGINEERING PROJECT\n",
    "# Topic: CURRENCY OPTION CALL\n",
    "## My Duong Nguyen (ID: 243521) & Thi Dieu Huong Nguyen (ID: 244531)"
   ]
  },
  {
   "cell_type": "code",
   "execution_count": 1,
   "id": "7d4073ac-5756-42f3-8493-820328134269",
   "metadata": {},
   "outputs": [
    {
     "name": "stdout",
     "output_type": "stream",
     "text": [
      "Defaulting to user installation because normal site-packages is not writeable\n",
      "Looking in links: /usr/share/pip-wheels\n",
      "Requirement already satisfied: yfinance in ./.local/lib/python3.9/site-packages (0.2.18)\n",
      "Requirement already satisfied: requests>=2.26 in /opt/conda/envs/anaconda-2022.05-py39/lib/python3.9/site-packages (from yfinance) (2.27.1)\n",
      "Requirement already satisfied: numpy>=1.16.5 in /opt/conda/envs/anaconda-2022.05-py39/lib/python3.9/site-packages (from yfinance) (1.21.5)\n",
      "Requirement already satisfied: beautifulsoup4>=4.11.1 in /opt/conda/envs/anaconda-2022.05-py39/lib/python3.9/site-packages (from yfinance) (4.11.1)\n",
      "Requirement already satisfied: multitasking>=0.0.7 in ./.local/lib/python3.9/site-packages (from yfinance) (0.0.11)\n",
      "Requirement already satisfied: cryptography>=3.3.2 in /opt/conda/envs/anaconda-2022.05-py39/lib/python3.9/site-packages (from yfinance) (3.4.8)\n",
      "Requirement already satisfied: lxml>=4.9.1 in ./.local/lib/python3.9/site-packages (from yfinance) (4.9.2)\n",
      "Requirement already satisfied: html5lib>=1.1 in ./.local/lib/python3.9/site-packages (from yfinance) (1.1)\n",
      "Requirement already satisfied: pandas>=1.3.0 in /opt/conda/envs/anaconda-2022.05-py39/lib/python3.9/site-packages (from yfinance) (1.4.2)\n",
      "Requirement already satisfied: appdirs>=1.4.4 in /opt/conda/envs/anaconda-2022.05-py39/lib/python3.9/site-packages (from yfinance) (1.4.4)\n",
      "Requirement already satisfied: pytz>=2022.5 in ./.local/lib/python3.9/site-packages (from yfinance) (2023.3)\n",
      "Requirement already satisfied: frozendict>=2.3.4 in ./.local/lib/python3.9/site-packages (from yfinance) (2.3.8)\n",
      "Requirement already satisfied: soupsieve>1.2 in /opt/conda/envs/anaconda-2022.05-py39/lib/python3.9/site-packages (from beautifulsoup4>=4.11.1->yfinance) (2.3.1)\n",
      "Requirement already satisfied: cffi>=1.12 in /opt/conda/envs/anaconda-2022.05-py39/lib/python3.9/site-packages (from cryptography>=3.3.2->yfinance) (1.15.0)\n",
      "Requirement already satisfied: pycparser in /opt/conda/envs/anaconda-2022.05-py39/lib/python3.9/site-packages (from cffi>=1.12->cryptography>=3.3.2->yfinance) (2.21)\n",
      "Requirement already satisfied: webencodings in /opt/conda/envs/anaconda-2022.05-py39/lib/python3.9/site-packages (from html5lib>=1.1->yfinance) (0.5.1)\n",
      "Requirement already satisfied: six>=1.9 in /opt/conda/envs/anaconda-2022.05-py39/lib/python3.9/site-packages (from html5lib>=1.1->yfinance) (1.16.0)\n",
      "Requirement already satisfied: python-dateutil>=2.8.1 in /opt/conda/envs/anaconda-2022.05-py39/lib/python3.9/site-packages (from pandas>=1.3.0->yfinance) (2.8.2)\n",
      "Requirement already satisfied: urllib3<1.27,>=1.21.1 in /opt/conda/envs/anaconda-2022.05-py39/lib/python3.9/site-packages (from requests>=2.26->yfinance) (1.26.9)\n",
      "Requirement already satisfied: idna<4,>=2.5 in ./.local/lib/python3.9/site-packages (from requests>=2.26->yfinance) (2.10)\n",
      "Requirement already satisfied: charset-normalizer~=2.0.0 in /opt/conda/envs/anaconda-2022.05-py39/lib/python3.9/site-packages (from requests>=2.26->yfinance) (2.0.4)\n",
      "Requirement already satisfied: certifi>=2017.4.17 in /opt/conda/envs/anaconda-2022.05-py39/lib/python3.9/site-packages (from requests>=2.26->yfinance) (2021.10.8)\n"
     ]
    }
   ],
   "source": [
    "import pandas as pd\n",
    "import numpy as np\n",
    "!pip install yfinance\n",
    "import yfinance as yf\n",
    "import matplotlib.pyplot as plt\n",
    "from scipy.stats.mstats import chisquare\n",
    "from scipy.stats import lognorm\n",
    "import statsmodels.api as sm\n",
    "from scipy.stats import shapiro\n",
    "import scipy.stats as si\n",
    "import seaborn as sns\n",
    "from scipy.stats import chi2_contingency"
   ]
  },
  {
   "cell_type": "markdown",
   "id": "0cd7037a-f3b3-41ef-a321-5e0a4d713fa4",
   "metadata": {},
   "source": [
    "# 1. Loading time-series data of EURO-USD"
   ]
  },
  {
   "cell_type": "markdown",
   "id": "23d0fbee-57cf-4844-8612-6f4ea65b2872",
   "metadata": {},
   "source": [
    "## 1.1 One year data "
   ]
  },
  {
   "cell_type": "code",
   "execution_count": 2,
   "id": "83db86ea-55b3-40c7-a04e-7f72ea1f9ddc",
   "metadata": {},
   "outputs": [
    {
     "name": "stdout",
     "output_type": "stream",
     "text": [
      "[*********************100%***********************]  1 of 1 completed\n"
     ]
    },
    {
     "data": {
      "text/html": [
       "<div>\n",
       "<style scoped>\n",
       "    .dataframe tbody tr th:only-of-type {\n",
       "        vertical-align: middle;\n",
       "    }\n",
       "\n",
       "    .dataframe tbody tr th {\n",
       "        vertical-align: top;\n",
       "    }\n",
       "\n",
       "    .dataframe thead th {\n",
       "        text-align: right;\n",
       "    }\n",
       "</style>\n",
       "<table border=\"1\" class=\"dataframe\">\n",
       "  <thead>\n",
       "    <tr style=\"text-align: right;\">\n",
       "      <th></th>\n",
       "      <th>Open</th>\n",
       "      <th>High</th>\n",
       "      <th>Low</th>\n",
       "      <th>Close</th>\n",
       "      <th>Adj Close</th>\n",
       "      <th>Volume</th>\n",
       "      <th>Log Return</th>\n",
       "    </tr>\n",
       "    <tr>\n",
       "      <th>Date</th>\n",
       "      <th></th>\n",
       "      <th></th>\n",
       "      <th></th>\n",
       "      <th></th>\n",
       "      <th></th>\n",
       "      <th></th>\n",
       "      <th></th>\n",
       "    </tr>\n",
       "  </thead>\n",
       "  <tbody>\n",
       "    <tr>\n",
       "      <th>2022-05-31</th>\n",
       "      <td>1.077354</td>\n",
       "      <td>1.077493</td>\n",
       "      <td>1.068216</td>\n",
       "      <td>1.077354</td>\n",
       "      <td>1.077354</td>\n",
       "      <td>0</td>\n",
       "      <td>NaN</td>\n",
       "    </tr>\n",
       "    <tr>\n",
       "      <th>2022-06-01</th>\n",
       "      <td>1.073411</td>\n",
       "      <td>1.073664</td>\n",
       "      <td>1.063174</td>\n",
       "      <td>1.073411</td>\n",
       "      <td>1.073411</td>\n",
       "      <td>0</td>\n",
       "      <td>-0.003667</td>\n",
       "    </tr>\n",
       "    <tr>\n",
       "      <th>2022-06-02</th>\n",
       "      <td>1.065417</td>\n",
       "      <td>1.073849</td>\n",
       "      <td>1.064566</td>\n",
       "      <td>1.065417</td>\n",
       "      <td>1.065417</td>\n",
       "      <td>0</td>\n",
       "      <td>-0.007475</td>\n",
       "    </tr>\n",
       "    <tr>\n",
       "      <th>2022-06-03</th>\n",
       "      <td>1.075107</td>\n",
       "      <td>1.076542</td>\n",
       "      <td>1.070664</td>\n",
       "      <td>1.075107</td>\n",
       "      <td>1.075107</td>\n",
       "      <td>0</td>\n",
       "      <td>0.009054</td>\n",
       "    </tr>\n",
       "    <tr>\n",
       "      <th>2022-06-06</th>\n",
       "      <td>1.072605</td>\n",
       "      <td>1.075269</td>\n",
       "      <td>1.068604</td>\n",
       "      <td>1.072605</td>\n",
       "      <td>1.072605</td>\n",
       "      <td>0</td>\n",
       "      <td>-0.002330</td>\n",
       "    </tr>\n",
       "    <tr>\n",
       "      <th>...</th>\n",
       "      <td>...</td>\n",
       "      <td>...</td>\n",
       "      <td>...</td>\n",
       "      <td>...</td>\n",
       "      <td>...</td>\n",
       "      <td>...</td>\n",
       "      <td>...</td>\n",
       "    </tr>\n",
       "    <tr>\n",
       "      <th>2023-05-24</th>\n",
       "      <td>1.076971</td>\n",
       "      <td>1.079937</td>\n",
       "      <td>1.074968</td>\n",
       "      <td>1.076971</td>\n",
       "      <td>1.076971</td>\n",
       "      <td>0</td>\n",
       "      <td>-0.003831</td>\n",
       "    </tr>\n",
       "    <tr>\n",
       "      <th>2023-05-25</th>\n",
       "      <td>1.075732</td>\n",
       "      <td>1.075419</td>\n",
       "      <td>1.070996</td>\n",
       "      <td>1.075732</td>\n",
       "      <td>1.075732</td>\n",
       "      <td>0</td>\n",
       "      <td>-0.001152</td>\n",
       "    </tr>\n",
       "    <tr>\n",
       "      <th>2023-05-26</th>\n",
       "      <td>1.072444</td>\n",
       "      <td>1.075755</td>\n",
       "      <td>1.070205</td>\n",
       "      <td>1.072444</td>\n",
       "      <td>1.072444</td>\n",
       "      <td>0</td>\n",
       "      <td>-0.003061</td>\n",
       "    </tr>\n",
       "    <tr>\n",
       "      <th>2023-05-29</th>\n",
       "      <td>1.072306</td>\n",
       "      <td>1.074576</td>\n",
       "      <td>1.070629</td>\n",
       "      <td>1.072306</td>\n",
       "      <td>1.072306</td>\n",
       "      <td>0</td>\n",
       "      <td>-0.000129</td>\n",
       "    </tr>\n",
       "    <tr>\n",
       "      <th>2023-05-30</th>\n",
       "      <td>1.070767</td>\n",
       "      <td>1.074576</td>\n",
       "      <td>1.067338</td>\n",
       "      <td>1.070767</td>\n",
       "      <td>1.070767</td>\n",
       "      <td>0</td>\n",
       "      <td>-0.001436</td>\n",
       "    </tr>\n",
       "  </tbody>\n",
       "</table>\n",
       "<p>261 rows × 7 columns</p>\n",
       "</div>"
      ],
      "text/plain": [
       "                Open      High       Low     Close  Adj Close  Volume  \\\n",
       "Date                                                                    \n",
       "2022-05-31  1.077354  1.077493  1.068216  1.077354   1.077354       0   \n",
       "2022-06-01  1.073411  1.073664  1.063174  1.073411   1.073411       0   \n",
       "2022-06-02  1.065417  1.073849  1.064566  1.065417   1.065417       0   \n",
       "2022-06-03  1.075107  1.076542  1.070664  1.075107   1.075107       0   \n",
       "2022-06-06  1.072605  1.075269  1.068604  1.072605   1.072605       0   \n",
       "...              ...       ...       ...       ...        ...     ...   \n",
       "2023-05-24  1.076971  1.079937  1.074968  1.076971   1.076971       0   \n",
       "2023-05-25  1.075732  1.075419  1.070996  1.075732   1.075732       0   \n",
       "2023-05-26  1.072444  1.075755  1.070205  1.072444   1.072444       0   \n",
       "2023-05-29  1.072306  1.074576  1.070629  1.072306   1.072306       0   \n",
       "2023-05-30  1.070767  1.074576  1.067338  1.070767   1.070767       0   \n",
       "\n",
       "            Log Return  \n",
       "Date                    \n",
       "2022-05-31         NaN  \n",
       "2022-06-01   -0.003667  \n",
       "2022-06-02   -0.007475  \n",
       "2022-06-03    0.009054  \n",
       "2022-06-06   -0.002330  \n",
       "...                ...  \n",
       "2023-05-24   -0.003831  \n",
       "2023-05-25   -0.001152  \n",
       "2023-05-26   -0.003061  \n",
       "2023-05-29   -0.000129  \n",
       "2023-05-30   -0.001436  \n",
       "\n",
       "[261 rows x 7 columns]"
      ]
     },
     "execution_count": 2,
     "metadata": {},
     "output_type": "execute_result"
    }
   ],
   "source": [
    "df_1y = yf.download('EURUSD=X', start='2022-05-31', end='2023-05-31')\n",
    "df_1y['Log Return'] = np.log(df_1y['Adj Close']/df_1y['Adj Close'].shift(1))\n",
    "df_1y"
   ]
  },
  {
   "cell_type": "markdown",
   "id": "d81b6d97-80cc-4a76-9111-b2e02e6e236c",
   "metadata": {},
   "source": [
    "## 1.2 Two years data"
   ]
  },
  {
   "cell_type": "code",
   "execution_count": 3,
   "id": "ad81dda4-89ba-450d-9b3c-80bc14e3d72d",
   "metadata": {},
   "outputs": [
    {
     "name": "stdout",
     "output_type": "stream",
     "text": [
      "[*********************100%***********************]  1 of 1 completed\n"
     ]
    },
    {
     "data": {
      "text/html": [
       "<div>\n",
       "<style scoped>\n",
       "    .dataframe tbody tr th:only-of-type {\n",
       "        vertical-align: middle;\n",
       "    }\n",
       "\n",
       "    .dataframe tbody tr th {\n",
       "        vertical-align: top;\n",
       "    }\n",
       "\n",
       "    .dataframe thead th {\n",
       "        text-align: right;\n",
       "    }\n",
       "</style>\n",
       "<table border=\"1\" class=\"dataframe\">\n",
       "  <thead>\n",
       "    <tr style=\"text-align: right;\">\n",
       "      <th></th>\n",
       "      <th>Open</th>\n",
       "      <th>High</th>\n",
       "      <th>Low</th>\n",
       "      <th>Close</th>\n",
       "      <th>Adj Close</th>\n",
       "      <th>Volume</th>\n",
       "      <th>Log Return</th>\n",
       "    </tr>\n",
       "    <tr>\n",
       "      <th>Date</th>\n",
       "      <th></th>\n",
       "      <th></th>\n",
       "      <th></th>\n",
       "      <th></th>\n",
       "      <th></th>\n",
       "      <th></th>\n",
       "      <th></th>\n",
       "    </tr>\n",
       "  </thead>\n",
       "  <tbody>\n",
       "    <tr>\n",
       "      <th>2021-05-31</th>\n",
       "      <td>1.219007</td>\n",
       "      <td>1.223391</td>\n",
       "      <td>1.218413</td>\n",
       "      <td>1.219007</td>\n",
       "      <td>1.219007</td>\n",
       "      <td>0</td>\n",
       "      <td>NaN</td>\n",
       "    </tr>\n",
       "    <tr>\n",
       "      <th>2021-06-01</th>\n",
       "      <td>1.223406</td>\n",
       "      <td>1.225415</td>\n",
       "      <td>1.221464</td>\n",
       "      <td>1.223287</td>\n",
       "      <td>1.223287</td>\n",
       "      <td>0</td>\n",
       "      <td>0.003505</td>\n",
       "    </tr>\n",
       "    <tr>\n",
       "      <th>2021-06-02</th>\n",
       "      <td>1.221807</td>\n",
       "      <td>1.222942</td>\n",
       "      <td>1.216575</td>\n",
       "      <td>1.221777</td>\n",
       "      <td>1.221777</td>\n",
       "      <td>0</td>\n",
       "      <td>-0.001235</td>\n",
       "    </tr>\n",
       "    <tr>\n",
       "      <th>2021-06-03</th>\n",
       "      <td>1.221150</td>\n",
       "      <td>1.221598</td>\n",
       "      <td>1.212090</td>\n",
       "      <td>1.220986</td>\n",
       "      <td>1.220986</td>\n",
       "      <td>0</td>\n",
       "      <td>-0.000647</td>\n",
       "    </tr>\n",
       "    <tr>\n",
       "      <th>2021-06-04</th>\n",
       "      <td>1.213030</td>\n",
       "      <td>1.218769</td>\n",
       "      <td>1.210551</td>\n",
       "      <td>1.213301</td>\n",
       "      <td>1.213301</td>\n",
       "      <td>0</td>\n",
       "      <td>-0.006314</td>\n",
       "    </tr>\n",
       "    <tr>\n",
       "      <th>...</th>\n",
       "      <td>...</td>\n",
       "      <td>...</td>\n",
       "      <td>...</td>\n",
       "      <td>...</td>\n",
       "      <td>...</td>\n",
       "      <td>...</td>\n",
       "      <td>...</td>\n",
       "    </tr>\n",
       "    <tr>\n",
       "      <th>2023-05-24</th>\n",
       "      <td>1.076971</td>\n",
       "      <td>1.079937</td>\n",
       "      <td>1.074968</td>\n",
       "      <td>1.076971</td>\n",
       "      <td>1.076971</td>\n",
       "      <td>0</td>\n",
       "      <td>-0.003831</td>\n",
       "    </tr>\n",
       "    <tr>\n",
       "      <th>2023-05-25</th>\n",
       "      <td>1.075732</td>\n",
       "      <td>1.075419</td>\n",
       "      <td>1.070996</td>\n",
       "      <td>1.075732</td>\n",
       "      <td>1.075732</td>\n",
       "      <td>0</td>\n",
       "      <td>-0.001152</td>\n",
       "    </tr>\n",
       "    <tr>\n",
       "      <th>2023-05-26</th>\n",
       "      <td>1.072444</td>\n",
       "      <td>1.075755</td>\n",
       "      <td>1.070205</td>\n",
       "      <td>1.072444</td>\n",
       "      <td>1.072444</td>\n",
       "      <td>0</td>\n",
       "      <td>-0.003061</td>\n",
       "    </tr>\n",
       "    <tr>\n",
       "      <th>2023-05-29</th>\n",
       "      <td>1.072306</td>\n",
       "      <td>1.074576</td>\n",
       "      <td>1.070629</td>\n",
       "      <td>1.072306</td>\n",
       "      <td>1.072306</td>\n",
       "      <td>0</td>\n",
       "      <td>-0.000129</td>\n",
       "    </tr>\n",
       "    <tr>\n",
       "      <th>2023-05-30</th>\n",
       "      <td>1.070767</td>\n",
       "      <td>1.074576</td>\n",
       "      <td>1.067338</td>\n",
       "      <td>1.070767</td>\n",
       "      <td>1.070767</td>\n",
       "      <td>0</td>\n",
       "      <td>-0.001436</td>\n",
       "    </tr>\n",
       "  </tbody>\n",
       "</table>\n",
       "<p>522 rows × 7 columns</p>\n",
       "</div>"
      ],
      "text/plain": [
       "                Open      High       Low     Close  Adj Close  Volume  \\\n",
       "Date                                                                    \n",
       "2021-05-31  1.219007  1.223391  1.218413  1.219007   1.219007       0   \n",
       "2021-06-01  1.223406  1.225415  1.221464  1.223287   1.223287       0   \n",
       "2021-06-02  1.221807  1.222942  1.216575  1.221777   1.221777       0   \n",
       "2021-06-03  1.221150  1.221598  1.212090  1.220986   1.220986       0   \n",
       "2021-06-04  1.213030  1.218769  1.210551  1.213301   1.213301       0   \n",
       "...              ...       ...       ...       ...        ...     ...   \n",
       "2023-05-24  1.076971  1.079937  1.074968  1.076971   1.076971       0   \n",
       "2023-05-25  1.075732  1.075419  1.070996  1.075732   1.075732       0   \n",
       "2023-05-26  1.072444  1.075755  1.070205  1.072444   1.072444       0   \n",
       "2023-05-29  1.072306  1.074576  1.070629  1.072306   1.072306       0   \n",
       "2023-05-30  1.070767  1.074576  1.067338  1.070767   1.070767       0   \n",
       "\n",
       "            Log Return  \n",
       "Date                    \n",
       "2021-05-31         NaN  \n",
       "2021-06-01    0.003505  \n",
       "2021-06-02   -0.001235  \n",
       "2021-06-03   -0.000647  \n",
       "2021-06-04   -0.006314  \n",
       "...                ...  \n",
       "2023-05-24   -0.003831  \n",
       "2023-05-25   -0.001152  \n",
       "2023-05-26   -0.003061  \n",
       "2023-05-29   -0.000129  \n",
       "2023-05-30   -0.001436  \n",
       "\n",
       "[522 rows x 7 columns]"
      ]
     },
     "execution_count": 3,
     "metadata": {},
     "output_type": "execute_result"
    }
   ],
   "source": [
    "df_2y = yf.download('EURUSD=X', start='2021-05-31', end='2023-05-31')\n",
    "df_2y['Log Return'] = np.log(df_2y['Adj Close']/df_2y['Adj Close'].shift(1))\n",
    "df_2y"
   ]
  },
  {
   "cell_type": "markdown",
   "id": "28388e79-dc8a-411b-a004-10b879e72b70",
   "metadata": {},
   "source": [
    "## 1.3 Ten years data"
   ]
  },
  {
   "cell_type": "code",
   "execution_count": 4,
   "id": "7b4faaa8-7b9f-4db9-8369-861c1aded871",
   "metadata": {},
   "outputs": [
    {
     "name": "stdout",
     "output_type": "stream",
     "text": [
      "[*********************100%***********************]  1 of 1 completed\n"
     ]
    },
    {
     "data": {
      "text/html": [
       "<div>\n",
       "<style scoped>\n",
       "    .dataframe tbody tr th:only-of-type {\n",
       "        vertical-align: middle;\n",
       "    }\n",
       "\n",
       "    .dataframe tbody tr th {\n",
       "        vertical-align: top;\n",
       "    }\n",
       "\n",
       "    .dataframe thead th {\n",
       "        text-align: right;\n",
       "    }\n",
       "</style>\n",
       "<table border=\"1\" class=\"dataframe\">\n",
       "  <thead>\n",
       "    <tr style=\"text-align: right;\">\n",
       "      <th></th>\n",
       "      <th>Open</th>\n",
       "      <th>High</th>\n",
       "      <th>Low</th>\n",
       "      <th>Close</th>\n",
       "      <th>Adj Close</th>\n",
       "      <th>Volume</th>\n",
       "      <th>Log Return</th>\n",
       "    </tr>\n",
       "    <tr>\n",
       "      <th>Date</th>\n",
       "      <th></th>\n",
       "      <th></th>\n",
       "      <th></th>\n",
       "      <th></th>\n",
       "      <th></th>\n",
       "      <th></th>\n",
       "      <th></th>\n",
       "    </tr>\n",
       "  </thead>\n",
       "  <tbody>\n",
       "    <tr>\n",
       "      <th>2013-05-31</th>\n",
       "      <td>1.304308</td>\n",
       "      <td>1.304938</td>\n",
       "      <td>1.294679</td>\n",
       "      <td>1.304393</td>\n",
       "      <td>1.304393</td>\n",
       "      <td>0</td>\n",
       "      <td>NaN</td>\n",
       "    </tr>\n",
       "    <tr>\n",
       "      <th>2013-06-03</th>\n",
       "      <td>1.299511</td>\n",
       "      <td>1.310360</td>\n",
       "      <td>1.295706</td>\n",
       "      <td>1.299646</td>\n",
       "      <td>1.299646</td>\n",
       "      <td>0</td>\n",
       "      <td>-0.003646</td>\n",
       "    </tr>\n",
       "    <tr>\n",
       "      <th>2013-06-04</th>\n",
       "      <td>1.307292</td>\n",
       "      <td>1.309819</td>\n",
       "      <td>1.304480</td>\n",
       "      <td>1.307292</td>\n",
       "      <td>1.307292</td>\n",
       "      <td>0</td>\n",
       "      <td>0.005866</td>\n",
       "    </tr>\n",
       "    <tr>\n",
       "      <th>2013-06-05</th>\n",
       "      <td>1.307292</td>\n",
       "      <td>1.311211</td>\n",
       "      <td>1.305688</td>\n",
       "      <td>1.307343</td>\n",
       "      <td>1.307343</td>\n",
       "      <td>0</td>\n",
       "      <td>0.000039</td>\n",
       "    </tr>\n",
       "    <tr>\n",
       "      <th>2013-06-06</th>\n",
       "      <td>1.309312</td>\n",
       "      <td>1.327200</td>\n",
       "      <td>1.307617</td>\n",
       "      <td>1.309329</td>\n",
       "      <td>1.309329</td>\n",
       "      <td>0</td>\n",
       "      <td>0.001518</td>\n",
       "    </tr>\n",
       "    <tr>\n",
       "      <th>...</th>\n",
       "      <td>...</td>\n",
       "      <td>...</td>\n",
       "      <td>...</td>\n",
       "      <td>...</td>\n",
       "      <td>...</td>\n",
       "      <td>...</td>\n",
       "      <td>...</td>\n",
       "    </tr>\n",
       "    <tr>\n",
       "      <th>2023-05-24</th>\n",
       "      <td>1.076971</td>\n",
       "      <td>1.079937</td>\n",
       "      <td>1.074968</td>\n",
       "      <td>1.076971</td>\n",
       "      <td>1.076971</td>\n",
       "      <td>0</td>\n",
       "      <td>-0.003831</td>\n",
       "    </tr>\n",
       "    <tr>\n",
       "      <th>2023-05-25</th>\n",
       "      <td>1.075732</td>\n",
       "      <td>1.075419</td>\n",
       "      <td>1.070996</td>\n",
       "      <td>1.075732</td>\n",
       "      <td>1.075732</td>\n",
       "      <td>0</td>\n",
       "      <td>-0.001152</td>\n",
       "    </tr>\n",
       "    <tr>\n",
       "      <th>2023-05-26</th>\n",
       "      <td>1.072444</td>\n",
       "      <td>1.075755</td>\n",
       "      <td>1.070205</td>\n",
       "      <td>1.072444</td>\n",
       "      <td>1.072444</td>\n",
       "      <td>0</td>\n",
       "      <td>-0.003061</td>\n",
       "    </tr>\n",
       "    <tr>\n",
       "      <th>2023-05-29</th>\n",
       "      <td>1.072306</td>\n",
       "      <td>1.074576</td>\n",
       "      <td>1.070629</td>\n",
       "      <td>1.072306</td>\n",
       "      <td>1.072306</td>\n",
       "      <td>0</td>\n",
       "      <td>-0.000129</td>\n",
       "    </tr>\n",
       "    <tr>\n",
       "      <th>2023-05-30</th>\n",
       "      <td>1.070767</td>\n",
       "      <td>1.074576</td>\n",
       "      <td>1.067338</td>\n",
       "      <td>1.070767</td>\n",
       "      <td>1.070767</td>\n",
       "      <td>0</td>\n",
       "      <td>-0.001436</td>\n",
       "    </tr>\n",
       "  </tbody>\n",
       "</table>\n",
       "<p>2604 rows × 7 columns</p>\n",
       "</div>"
      ],
      "text/plain": [
       "                Open      High       Low     Close  Adj Close  Volume  \\\n",
       "Date                                                                    \n",
       "2013-05-31  1.304308  1.304938  1.294679  1.304393   1.304393       0   \n",
       "2013-06-03  1.299511  1.310360  1.295706  1.299646   1.299646       0   \n",
       "2013-06-04  1.307292  1.309819  1.304480  1.307292   1.307292       0   \n",
       "2013-06-05  1.307292  1.311211  1.305688  1.307343   1.307343       0   \n",
       "2013-06-06  1.309312  1.327200  1.307617  1.309329   1.309329       0   \n",
       "...              ...       ...       ...       ...        ...     ...   \n",
       "2023-05-24  1.076971  1.079937  1.074968  1.076971   1.076971       0   \n",
       "2023-05-25  1.075732  1.075419  1.070996  1.075732   1.075732       0   \n",
       "2023-05-26  1.072444  1.075755  1.070205  1.072444   1.072444       0   \n",
       "2023-05-29  1.072306  1.074576  1.070629  1.072306   1.072306       0   \n",
       "2023-05-30  1.070767  1.074576  1.067338  1.070767   1.070767       0   \n",
       "\n",
       "            Log Return  \n",
       "Date                    \n",
       "2013-05-31         NaN  \n",
       "2013-06-03   -0.003646  \n",
       "2013-06-04    0.005866  \n",
       "2013-06-05    0.000039  \n",
       "2013-06-06    0.001518  \n",
       "...                ...  \n",
       "2023-05-24   -0.003831  \n",
       "2023-05-25   -0.001152  \n",
       "2023-05-26   -0.003061  \n",
       "2023-05-29   -0.000129  \n",
       "2023-05-30   -0.001436  \n",
       "\n",
       "[2604 rows x 7 columns]"
      ]
     },
     "execution_count": 4,
     "metadata": {},
     "output_type": "execute_result"
    }
   ],
   "source": [
    "df_10y = yf.download('EURUSD=X', start='2013-05-31', end='2023-05-31')\n",
    "df_10y['Log Return'] = np.log(df_10y['Adj Close']/df_10y['Adj Close'].shift(1))\n",
    "df_10y"
   ]
  },
  {
   "cell_type": "markdown",
   "id": "afb1c824-f517-4ca9-9e50-45d6bdad4334",
   "metadata": {},
   "source": [
    "# 2. Analyzing whether time-series follow geometric Brownian Motion (GBM)"
   ]
  },
  {
   "cell_type": "markdown",
   "id": "2657858b-15f8-48b5-842f-646f9fe671ba",
   "metadata": {},
   "source": [
    "## 2.1 Methodology"
   ]
  },
  {
   "cell_type": "markdown",
   "id": "9149da77-0dcf-449b-a25e-3461f7ed2870",
   "metadata": {},
   "source": [
    "In real life, the GBM is used often without examining whether the data set is valid for the condition of GBM. In fact, there are two main steps to test for GBM, which were stated by Marathe and Ryan (2005). In addition, we are adding another method to visually assess the constancy of  variance and the continuity of the times series."
   ]
  },
  {
   "cell_type": "markdown",
   "id": "d7d21da4-9770-4b59-afff-b5673f253feb",
   "metadata": {},
   "source": [
    "### 2.1.1 Normality test"
   ]
  },
  {
   "cell_type": "markdown",
   "id": "1909e7a0-dbc9-4411-b4c6-1473cdbf508c",
   "metadata": {},
   "source": [
    "Based on the property of geometric Brownian Motion: random variables are normaly distributed (Lyuu, 2002, p. 183), it is neccessary to check the distribution of all the variables. Plotting a histogram of log return and see if it is similar to normal distribution plot is the most transparent way to decide for Normality test. Another visual way could be to have a Q-Q plot that is related to a straight line.\n",
    "\n",
    "Statistically, Shapiro-Wilk test (Shapiro & Wilk, 1965) is the most used the goodness-of-fit test. In this case, we have:\n",
    "\n",
    "\n",
    "$H_0$: The following data satisfy normal distribution <br>\n",
    "$H_a$: The following data do not satisfy normal distribution\n",
    "\n"
   ]
  },
  {
   "cell_type": "markdown",
   "id": "76d49e26-9a6e-42ea-b3cb-bee598886f15",
   "metadata": {},
   "source": [
    "### 2.1.2 Independence test"
   ]
  },
  {
   "cell_type": "markdown",
   "id": "f835fe5d-1cff-4e8f-9d76-6c92cbde81ae",
   "metadata": {},
   "source": [
    "Since geometric Brownian Motion is a Brownian Motion, it has the same property of Brownian Motion: the independent increments if for all $0<=t_0<t_1<...t_m$ (Lyuu, 2002, p. 183). The Chi-square two-way test (Cochran, 1952) is suitable for the Independence test. In our case, this test will determine if each variable is depend or not on one another. Those hypothesis have to be follow:\n",
    "\n",
    "$H_0$: Between each variable, there exists no relation <br>\n",
    "$H_a$: Between each variable, there exists relation\n",
    "\n",
    "We are testing the Independence test using the method from Marathe and Ryan (2005). By that, we create a histogram including 4 bin for all of the returns. We then create the 4 by 4 matrix, the rows represent the rank of histogram in time t, columns are the rank of histogram in time t+1, and each cell of the matrix are the number of time the returns exist. Lastly we calculate the p-value of the 2 tails Chi-square test. "
   ]
  },
  {
   "cell_type": "markdown",
   "id": "8e17cb89",
   "metadata": {},
   "source": [
    "### 2.1.3 Constant variance and continuity assessment"
   ]
  },
  {
   "cell_type": "markdown",
   "id": "4d200a7d",
   "metadata": {},
   "source": [
    "Since geometric Brownian motion (GBM) is a continuous-time process with drift (Lyuu, 2002, p. 183-187). Therefore, if a times series $S_t$ is said to follow a GBM, it must satisfy the following stochastic differential equation:  \n",
    "\n",
    "$$\\begin{equation}  dS_t = \\mu S_t dt + \\sigma S_t dW_t \\end{equation}$$\n",
    "\n",
    "where:  \n",
    "$W_t$ is a Wiener process or Brownian motion, and $\\mu$  ('the percentage drift') and $\\sigma$  ('the percentage volatility') are constants.  \n",
    "\n",
    "Hence, the visualization of constant variance and continuity of a times series can be considered as indicators for checking whether the call option price on currencies within different periods follows geometric Brownian Motion.\n"
   ]
  },
  {
   "cell_type": "markdown",
   "id": "ac3c3aa0-e28f-4867-a21d-4278dbd7c334",
   "metadata": {},
   "source": [
    "## 2.2 Result"
   ]
  },
  {
   "cell_type": "markdown",
   "id": "d9b50303-82d5-4739-86c2-b4a828562462",
   "metadata": {},
   "source": [
    "### 2.2.1 Normality"
   ]
  },
  {
   "cell_type": "markdown",
   "id": "1dee4d95-34b5-434a-b76d-a0eac7313b53",
   "metadata": {},
   "source": [
    "#### 2.2.1.1 Histogram plot"
   ]
  },
  {
   "cell_type": "code",
   "execution_count": 5,
   "id": "d95323d2-a940-483b-bb6c-24d89695519a",
   "metadata": {},
   "outputs": [
    {
     "data": {
      "image/png": "[encoded data removed]",
      "text/plain": [
       "<Figure size 432x288 with 1 Axes>"
      ]
     },
     "metadata": {
      "needs_background": "light"
     },
     "output_type": "display_data"
    },
    {
     "data": {
      "image/png": "[encoded data removed]",
      "text/plain": [
       "<Figure size 432x288 with 1 Axes>"
      ]
     },
     "metadata": {
      "needs_background": "light"
     },
     "output_type": "display_data"
    },
    {
     "data": {
      "image/png": "[encoded data removed]",
      "text/plain": [
       "<Figure size 432x288 with 1 Axes>"
      ]
     },
     "metadata": {
      "needs_background": "light"
     },
     "output_type": "display_data"
    }
   ],
   "source": [
    "sns.histplot(df_1y['Log Return'], bins=15, color='lightblue', kde=True).set(title='1-Year Returns', ylabel='Observation')\n",
    "plt.show()\n",
    "\n",
    "sns.histplot(df_2y['Log Return'], bins=15, kde=True).set(title='2-Year Returns', ylabel='Observation')\n",
    "plt.show()\n",
    "\n",
    "sns.histplot(df_10y['Log Return'], bins=15, color='darkblue', kde=True).set(title='10-Year Returns', ylabel='Observation')\n",
    "plt.show()\n",
    "\n",
    "plt.rcParams[\"figure.figsize\"] = (3,2)"
   ]
  },
  {
   "cell_type": "markdown",
   "id": "1ef76b58-1685-4367-8401-a499f396bdf3",
   "metadata": {},
   "source": [
    "*From the graph, it is evident that the three log-transformed time-series of 1-returns, 2-year returns and 3-year returns, respectively, follow normal distribution since the highest frequency variables are centered at the mid-point. In addition, the more higher/lower the variables get, the less frequent it appears.*"
   ]
  },
  {
   "cell_type": "markdown",
   "id": "76c3f450-e128-42ed-ae97-87a2b0eee81c",
   "metadata": {},
   "source": [
    "#### 2.2.1.2 Q-Q plot"
   ]
  },
  {
   "cell_type": "code",
   "execution_count": 6,
   "id": "484ba16a-224a-4f64-993e-40ac50c72aad",
   "metadata": {},
   "outputs": [
    {
     "data": {
      "image/png": "[encoded data removed]",
      "text/plain": [
       "<Figure size 216x144 with 1 Axes>"
      ]
     },
     "metadata": {
      "needs_background": "light"
     },
     "output_type": "display_data"
    },
    {
     "data": {
      "image/png": "[encoded data removed]",
      "text/plain": [
       "<Figure size 216x144 with 1 Axes>"
      ]
     },
     "metadata": {
      "needs_background": "light"
     },
     "output_type": "display_data"
    },
    {
     "data": {
      "image/png": "[encoded data removed]",
      "text/plain": [
       "<Figure size 216x144 with 1 Axes>"
      ]
     },
     "metadata": {
      "needs_background": "light"
     },
     "output_type": "display_data"
    }
   ],
   "source": [
    "fig = sm.qqplot(df_1y['Log Return'], line='q')\n",
    "plt.title('1-Year Returns', fontsize = 10)\n",
    "plt.show()\n",
    "\n",
    "fig = sm.qqplot(df_2y['Log Return'], line='q')\n",
    "plt.title('2-Year Returns', fontsize = 10)\n",
    "plt.show()\n",
    "\n",
    "fig = sm.qqplot(df_10y['Log Return'] , line='q')\n",
    "plt.title('10-Year Returns', fontsize = 10)\n",
    "plt.show()\n",
    "\n",
    "plt.rcParams[\"figure.figsize\"] = (2,2)"
   ]
  },
  {
   "cell_type": "markdown",
   "id": "4637c44f-3f43-4186-a43a-db6514076eb4",
   "metadata": {},
   "source": [
    "*We can conclude that the 1-year time-series follows normal distribution since the plotting of variables lie on a straight line. However, the 2-year time series and the 10-year time series do not follow the trend. Therefore, we need further test to conclude if the two year and ten year time-series follow normal distribution.*"
   ]
  },
  {
   "cell_type": "markdown",
   "id": "70484419-8268-4363-af3b-21460a7a8248",
   "metadata": {},
   "source": [
    "#### 2.2.1.3 Shapiro-Wilk test"
   ]
  },
  {
   "cell_type": "code",
   "execution_count": 7,
   "id": "afbe6f63-c385-4772-89cc-c2e3dcecfb70",
   "metadata": {},
   "outputs": [
    {
     "data": {
      "text/plain": [
       "ShapiroResult(statistic=0.996870219707489, pvalue=0.8924320340156555)"
      ]
     },
     "execution_count": 7,
     "metadata": {},
     "output_type": "execute_result"
    }
   ],
   "source": [
    "shapiro(df_1y['Log Return'][1:])"
   ]
  },
  {
   "cell_type": "code",
   "execution_count": 8,
   "id": "7ead9170",
   "metadata": {},
   "outputs": [
    {
     "data": {
      "text/plain": [
       "ShapiroResult(statistic=0.9892958998680115, pvalue=0.0007500035571865737)"
      ]
     },
     "execution_count": 8,
     "metadata": {},
     "output_type": "execute_result"
    }
   ],
   "source": [
    "shapiro(df_2y['Log Return'][1:])"
   ]
  },
  {
   "cell_type": "code",
   "execution_count": 9,
   "id": "3a0da469",
   "metadata": {},
   "outputs": [
    {
     "data": {
      "text/plain": [
       "ShapiroResult(statistic=0.9723204374313354, pvalue=4.872138741454494e-22)"
      ]
     },
     "execution_count": 9,
     "metadata": {},
     "output_type": "execute_result"
    }
   ],
   "source": [
    "shapiro(df_10y['Log Return'][1:])"
   ]
  },
  {
   "cell_type": "markdown",
   "id": "8bd465c1",
   "metadata": {},
   "source": [
    "\n",
    "| Period | W | P-value| Decision|\n",
    "|:--------:|:-:|:------:|:-------:|\n",
    "|1 year|0.9969|0.8924|Fail to reject $H_0$|\n",
    "|2 years|0.9893|0.0007|Reject $H_0$|\n",
    "|10 years|0.9723|4.8721.e<sup>-22</sup>|Reject $H_0$ |\n",
    "\n",
    "*With p-value > 5% ($\\alpha$ =0.05), the 1-year time-series of EURO-USD is relevant for normal distribution.\n",
    "In contrast, the 2-year time-series of EURO-USD is not relevant for normal distribution since its p-value is lower than 5%. The 10-year time-series followed the same pattern as that of the 2-year time series.*"
   ]
  },
  {
   "cell_type": "markdown",
   "id": "717be290-1e12-4c26-9f64-d5fd22550cf8",
   "metadata": {},
   "source": [
    "### 2.2.2 Independence test"
   ]
  },
  {
   "cell_type": "markdown",
   "id": "cbd9cabd-4998-4986-996b-6c528e3d4ef9",
   "metadata": {},
   "source": [
    "##### Chi-square test ($x$<sup>2</sup>)"
   ]
  },
  {
   "cell_type": "code",
   "execution_count": 10,
   "id": "c5b80c13-1b55-4525-8101-c35a88b8e493",
   "metadata": {},
   "outputs": [
    {
     "name": "stdout",
     "output_type": "stream",
     "text": [
      "Chi-square: 1.0338929568984536e+01\n",
      "p-value: 0.323750072973502\n"
     ]
    }
   ],
   "source": [
    "gap = np.histogram(df_1y['Log Return'][1:], bins=4)[1]  # Adjust the number of bins as needed\n",
    "cont_table = np.zeros((len(gap)-1, len(gap)-1))\n",
    "for i in range(len(df_1y['Log Return'][1:])-1):\n",
    "    current_gap = np.digitize(df_1y['Log Return'][1:][i], gap) - 1\n",
    "    next_gap = np.digitize(df_1y['Log Return'][1:][i+1], gap) - 1\n",
    "    if current_gap < len(gap)-1 and next_gap < len(gap)-1:\n",
    "        cont_table[current_gap, next_gap] += 1\n",
    "chi2, p_value, _, _ = chi2_contingency(cont_table)\n",
    "print(\"Chi-square:\", chi2)\n",
    "print(\"p-value:\", p_value)"
   ]
  },
  {
   "cell_type": "code",
   "execution_count": 11,
   "id": "040271e4-c44f-4fc3-a393-c98f286c8dd1",
   "metadata": {},
   "outputs": [
    {
     "name": "stdout",
     "output_type": "stream",
     "text": [
      "Chi-square: 10.279210758861097\n",
      "p-value: 0.3283580843318307\n"
     ]
    }
   ],
   "source": [
    "gap = np.histogram(df_2y['Log Return'][1:], bins=4)[1]  # Adjust the number of bins as needed\n",
    "cont_table = np.zeros((len(gap)-1, len(gap)-1))\n",
    "for i in range(len(df_2y['Log Return'][1:])-1):\n",
    "    current_gap = np.digitize(df_2y['Log Return'][1:][i], gap) - 1\n",
    "    next_gap = np.digitize(df_2y['Log Return'][1:][i+1], gap) - 1\n",
    "    if current_gap < len(gap)-1 and next_gap < len(gap)-1:\n",
    "        cont_table[current_gap, next_gap] += 1\n",
    "chi2, p_value, _, _ = chi2_contingency(cont_table)\n",
    "print(\"Chi-square:\", chi2)\n",
    "print(\"p-value:\", p_value)"
   ]
  },
  {
   "cell_type": "code",
   "execution_count": 12,
   "id": "31da6d25-a377-4143-bf78-6918cf367383",
   "metadata": {},
   "outputs": [
    {
     "name": "stdout",
     "output_type": "stream",
     "text": [
      "Chi-square: 18.317037224047652\n",
      "p-value: 0.031668502215152744\n"
     ]
    }
   ],
   "source": [
    "gap = np.histogram(df_10y['Log Return'][1:], bins=4)[1]  # Adjust the number of bins as needed\n",
    "cont_table = np.zeros((len(gap)-1, len(gap)-1))\n",
    "for i in range(len(df_10y['Log Return'][1:])-1):\n",
    "    current_gap = np.digitize(df_10y['Log Return'][1:][i], gap) - 1\n",
    "    next_gap = np.digitize(df_10y['Log Return'][1:][i+1], gap) - 1\n",
    "    if current_gap < len(gap)-1 and next_gap < len(gap)-1:\n",
    "        cont_table[current_gap, next_gap] += 1\n",
    "chi2, p_value, _, _ = chi2_contingency(cont_table)\n",
    "print(\"Chi-square:\", chi2)\n",
    "print(\"p-value:\", p_value)"
   ]
  },
  {
   "cell_type": "markdown",
   "id": "2ab102bb",
   "metadata": {},
   "source": [
    "| Period | $x$<sup>2</sup> | P-value| Decision|\n",
    "|:--------:|:-:|:------:|:-------:|\n",
    "|1 year|1.03|0.3238|Fail to reject $H_0$|\n",
    "|2 years|10.28|0.3284|Fail to reject $H_0$|\n",
    "|10 years|18.32|0.0317|Reject $H_0$ |\n",
    "\n",
    "*The p-values of 1 year period and 2 year period are greater than $\\alpha$ = 0.05. This indicates that the test is not significant; in other words, the test fails to reject the null hypothesis. Therefore, variables of those time-series of EURO-USD are independent.*\n",
    "\n",
    "*On the other hand, the 10-year period achieve $\\alpha$ < 0.05. In this case, we reject the null hypothesis. For that, this period of 10 year time-series of EURO-USD is not independent.*"
   ]
  },
  {
   "cell_type": "markdown",
   "id": "b2de0017",
   "metadata": {},
   "source": [
    "### 2.2.3 Constant variance and continuity assessment"
   ]
  },
  {
   "cell_type": "markdown",
   "id": "4d638062",
   "metadata": {},
   "source": [
    "Firstly, the line plot of the currency price (Closing price) is drawn. *[a]*"
   ]
  },
  {
   "cell_type": "code",
   "execution_count": 13,
   "id": "45a3a1e9",
   "metadata": {},
   "outputs": [
    {
     "data": {
      "image/png": "[encoded data removed]",
      "text/plain": [
       "<Figure size 144x144 with 1 Axes>"
      ]
     },
     "metadata": {
      "needs_background": "light"
     },
     "output_type": "display_data"
    },
    {
     "data": {
      "image/png": "[encoded data removed]",
      "text/plain": [
       "<Figure size 144x144 with 1 Axes>"
      ]
     },
     "metadata": {
      "needs_background": "light"
     },
     "output_type": "display_data"
    },
    {
     "data": {
      "image/png": "[encoded data removed]",
      "text/plain": [
       "<Figure size 144x144 with 1 Axes>"
      ]
     },
     "metadata": {
      "needs_background": "light"
     },
     "output_type": "display_data"
    }
   ],
   "source": [
    "import seaborn as sns\n",
    "\n",
    "sns.lineplot(x='Date', y='Adj Close', data = df_1y).set(title='1-Year Returns', ylabel='EUR-USD')\n",
    "plt.show()\n",
    "\n",
    "sns.lineplot( x='Date', y='Adj Close', data = df_2y).set(title='2-Year Returns', ylabel='EUR-USD')\n",
    "plt.show()\n",
    "\n",
    "sns.lineplot( x='Date', y='Adj Close', data = df_10y).set(title='10-Year Returns', ylabel='EUR-USD')\n",
    "plt.show()\n",
    "\n",
    "plt.rcParams[\"figure.figsize\"] = (7,1)"
   ]
  },
  {
   "cell_type": "markdown",
   "id": "61ab70cd",
   "metadata": {},
   "source": [
    "Next, line plot of the log returns is drawn. *[b]*"
   ]
  },
  {
   "cell_type": "code",
   "execution_count": 14,
   "id": "4475ed0b",
   "metadata": {},
   "outputs": [
    {
     "data": {
      "image/png": "[encoded data removed]",
      "text/plain": [
       "<Figure size 504x72 with 1 Axes>"
      ]
     },
     "metadata": {
      "needs_background": "light"
     },
     "output_type": "display_data"
    },
    {
     "data": {
      "image/png": "[encoded data removed]",
      "text/plain": [
       "<Figure size 504x72 with 1 Axes>"
      ]
     },
     "metadata": {
      "needs_background": "light"
     },
     "output_type": "display_data"
    },
    {
     "data": {
      "image/png": "[encoded data removed]",
      "text/plain": [
       "<Figure size 504x72 with 1 Axes>"
      ]
     },
     "metadata": {
      "needs_background": "light"
     },
     "output_type": "display_data"
    }
   ],
   "source": [
    "sns.lineplot(x='Date', y='Log Return', data = df_1y).set(title='1-Year Returns', ylabel='EUR-USD')\n",
    "plt.show()  \n",
    "\n",
    "sns.lineplot( x='Date', y='Log Return', data = df_2y).set(title='2-Year Returns', ylabel='EUR-USD')\n",
    "plt.show()  \n",
    "\n",
    "sns.lineplot(x='Date', y='Log Return', data = df_10y).set(title='10-Year Returns', ylabel='EUR-USD')\n",
    "plt.show()\n",
    "\n",
    "plt.rcParams[\"figure.figsize\"] = (7,1)"
   ]
  },
  {
   "cell_type": "markdown",
   "id": "11c8a999",
   "metadata": {},
   "source": [
    "*In general, we observe that there are constants variances in the visualization plots within 3 periods: 1 year, 2 years and 10 years. At the same time, all 3 plots of Closing price[a] and Log return[b] have the continuity. Moreover,  although the stationary of the Closing price is comparatively weak, that of Log return is strong. As a result, we can conclude that all three times series has the properties of GBM.*"
   ]
  },
  {
   "cell_type": "markdown",
   "id": "8a704f48-ae16-4d4f-a8e9-0fd347923c70",
   "metadata": {},
   "source": [
    "## 2.3 Discussion"
   ]
  },
  {
   "cell_type": "markdown",
   "id": "6bab0a1b-cd37-4be4-996c-83b2d64c9461",
   "metadata": {},
   "source": [
    "Only the one year time-series fulfills all requirement of GBM. For that reason, we can conclude that one year time-series follows GBM, whereas two year and ten year time series do not."
   ]
  },
  {
   "cell_type": "markdown",
   "id": "ec7f7758-c2a7-4510-b98e-e907f308cbe0",
   "metadata": {},
   "source": [
    "# 3. Performing Option Pricing"
   ]
  },
  {
   "cell_type": "markdown",
   "id": "93655b73-e0d4-4361-ba2e-d135b75fb4b6",
   "metadata": {},
   "source": [
    "## 3.1 Methodology"
   ]
  },
  {
   "cell_type": "markdown",
   "id": "ff90c670-7d03-4d5e-8ee8-f0437b119435",
   "metadata": {},
   "source": [
    "In this assignment, we conduct a foreign option pricing using the Garman-Kohlhagen model (Garman & Kohlhagen, 1983)\n",
    "\n",
    "The price of the call option of the domestic currency value over the foreign currency is:\n",
    "\n",
    "$$\\begin{equation} c = S_0 e^{-r_f T}N(d_1) - K e^{-r_d T}N(d_2) \\end{equation}$$\n",
    "\n",
    "And the value of the put option is:\n",
    "\n",
    "$$\\begin{equation} p = K e^{-r_d T}N(-d_2) - S_0 e^{-r_f T}N(-d_1) \\end{equation}$$\n",
    "\n",
    "where:\n",
    "\n",
    "$\\begin{equation} d_1 = \\frac{\\ln(S_0 /K) + (r_d - r_f + \\sigma^2 /2)T}{\\sigma\\sqrt{T}}  \\end{equation}$<br>\n",
    "$\\begin{equation} d_2 = d_1 - \\sigma\\sqrt{T} \\end{equation}$<br>\n",
    "$S_0$ is the current spot rate<br>\n",
    "$K$ is the strike price<br>\n",
    "$N(x)$ is the cumulative normal distribution<br>\n",
    "$r_d$ is the domestic risk free rate<br>\n",
    "$r_f$ is the foreign risk free rate<br>\n",
    "$T$ is the time to maturity<br>\n",
    "$\\sigma$ is the volatility of foreign exchange rate<br>"
   ]
  },
  {
   "cell_type": "markdown",
   "id": "f72d36dd-a6cf-4c44-8e50-ae52e82e4e57",
   "metadata": {},
   "source": [
    "## 3.2 Assumption"
   ]
  },
  {
   "cell_type": "markdown",
   "id": "73921fb1-c587-4dc6-937d-50ee834b2cbe",
   "metadata": {},
   "source": [
    "Our task in this assignment is to pricing a currency call option. The assumptions of each variable in the formula come from:\n",
    "\n",
    "$S_0$  | $K$                                                      | $r_d$     | $r_f$  |  $T$ |  $\\sigma$  |\n",
    "|:------:|:--------------------------------------------------------:| :--------:| :------:|:----:|-----------|\n",
    "1.0942 |{1.0503, 1.0750, 1.0859, 1.0997, 1.1135, 1.1240, 1.1476} | 5.0214%    | 3.3449%  | 0.25 |  0.0797|\n",
    "\n",
    "\n",
    "$S_0$ is the current spot rate recorded at Jun 16, 2023 (Investing.com, 2023)<br>\n",
    "$K$ is the strike price in 3 months at Jun 16, 2023 (Investing.com, 2023)<br>\n",
    "$r_d$ is the risk free rate of US, determined by taking the 3 month treasury bill of the US at Jun 16, 2023 (Thomson Reuters Eikon, 2023) <br>\n",
    "$r_f$ is determined by taking 3 month bond of European Central Bank at Jun 16, 2023 (Thomson Reuters Eikon, 2023) <br>\n",
    "$T$ is a period of 3 months <br>\n",
    "$\\sigma$ is self calculated by our 10 year historical data<br>"
   ]
  },
  {
   "cell_type": "markdown",
   "id": "ce2a3401-9cd3-4161-9f92-986df8cb679e",
   "metadata": {},
   "source": [
    "## 3.3 Result"
   ]
  },
  {
   "cell_type": "code",
   "execution_count": 15,
   "id": "43b34cc7-33e2-403d-9959-f0ecf11f3578",
   "metadata": {},
   "outputs": [],
   "source": [
    "sigma = df_10y['Log Return'][1:].std()*np.sqrt(252)\n",
    "def calloption(S0, K, T, rd, rf, sigma):\n",
    "    d1 = (np.log(S0/K) + (rd - rf + 0.5*(sigma**2))*T)/(sigma*np.sqrt(T))\n",
    "    d2 = d1 - sigma*np.sqrt(T)\n",
    "    calloption = S0*np.exp(-rf * T) * si.norm.cdf(d1,0,1) - K*np.exp(-rd*T) * si.norm.cdf(d2,0,1)\n",
    "    return (calloption)"
   ]
  },
  {
   "cell_type": "code",
   "execution_count": 16,
   "id": "2c871501",
   "metadata": {},
   "outputs": [
    {
     "data": {
      "text/plain": [
       "5.061131026150745e-02"
      ]
     },
     "execution_count": 16,
     "metadata": {},
     "output_type": "execute_result"
    }
   ],
   "source": [
    "calloption(1.0942, 1.0503, 0.25, 0.050214, 0.033449, sigma)"
   ]
  },
  {
   "cell_type": "code",
   "execution_count": 17,
   "id": "735e19a8-093d-4b90-aa51-047199379c85",
   "metadata": {},
   "outputs": [
    {
     "data": {
      "text/plain": [
       "3.1328600939528606e-02"
      ]
     },
     "execution_count": 17,
     "metadata": {},
     "output_type": "execute_result"
    }
   ],
   "source": [
    "calloption(1.0942, 1.0750, 0.25, 0.050214, 0.033449, sigma)"
   ]
  },
  {
   "cell_type": "code",
   "execution_count": 18,
   "id": "cab77b4c-f7d1-4ba3-b047-63203fe8d52f",
   "metadata": {},
   "outputs": [
    {
     "data": {
      "text/plain": [
       "2.4267753359744404e-02"
      ]
     },
     "execution_count": 18,
     "metadata": {},
     "output_type": "execute_result"
    }
   ],
   "source": [
    "calloption(1.0942, 1.0859, 0.25, 0.050214, 0.033449, sigma)"
   ]
  },
  {
   "cell_type": "code",
   "execution_count": 19,
   "id": "aef5c8f8-037d-47ba-865f-b8edd417c047",
   "metadata": {},
   "outputs": [
    {
     "data": {
      "text/plain": [
       "1.68191539876692e-02"
      ]
     },
     "execution_count": 19,
     "metadata": {},
     "output_type": "execute_result"
    }
   ],
   "source": [
    "calloption(1.0942, 1.0997, 0.25, 0.050214, 0.033449, sigma)"
   ]
  },
  {
   "cell_type": "code",
   "execution_count": 20,
   "id": "f74405e2-ce27-4ded-a340-bc5c631e9c05",
   "metadata": {},
   "outputs": [
    {
     "data": {
      "text/plain": [
       "1.1066791485774219e-02"
      ]
     },
     "execution_count": 20,
     "metadata": {},
     "output_type": "execute_result"
    }
   ],
   "source": [
    "calloption(1.0942, 1.1135, 0.25, 0.050214, 0.033449, sigma)"
   ]
  },
  {
   "cell_type": "code",
   "execution_count": 21,
   "id": "22687ac8-5d71-4aa1-9007-9f49042b9c77",
   "metadata": {},
   "outputs": [
    {
     "data": {
      "text/plain": [
       "7.758104825590029e-03"
      ]
     },
     "execution_count": 21,
     "metadata": {},
     "output_type": "execute_result"
    }
   ],
   "source": [
    "calloption(1.0942, 1.1240, 0.25, 0.050214, 0.033449, sigma)"
   ]
  },
  {
   "cell_type": "code",
   "execution_count": 22,
   "id": "9250aa46-1a50-4ccb-a79f-af7612b23370",
   "metadata": {},
   "outputs": [
    {
     "data": {
      "text/plain": [
       "3.092162291252837e-03"
      ]
     },
     "execution_count": 22,
     "metadata": {},
     "output_type": "execute_result"
    }
   ],
   "source": [
    "calloption(1.0942, 1.1476, 0.25, 0.050214, 0.033449, sigma)"
   ]
  },
  {
   "cell_type": "markdown",
   "id": "23093319",
   "metadata": {},
   "source": [
    "#### The table shows the comparison between the predicted call option prices and their corresponding market prices: \n",
    "\n",
    "\n",
    "\n",
    "Strike price | Forecasted option price | Observed option price| Percent deviation (%)|\n",
    "|:-:| :-------------------:|:------------------:|:---------:|\n",
    "|1.0503|0.0506|0.0500|1.2%|\n",
    "|1.0750|0.0313|0.0297|5.39%|\n",
    "|1.0859|0.0243|0.0220|10.45%|\n",
    "|1.0997|0.0168|0.0140|20%|\n",
    "|1.1135|0.0111|0.0082|35.37%|\n",
    "|1.1240|0.0078|0.0052|50%|\n",
    "|1.1476|0.0031|0.0017|82.35%|\n",
    "\n",
    "\n",
    "* With K = 1.0503, the price of the call option calculated is 0.0506. Compared to the call option market price (0.0500), the forecasted call option price is approximately 1.2% higher.  \n",
    "* With K = 1.0750, the price of the call option calculated is 0.0313. Compared to the call option market price (0.0297), the forecasted call option price is approximately 5.39% higher.   \n",
    "* With K = 1.0859, the price of the call option calculated is 0.0243. Compared to the call option market price (0.0220), the forecasted call option price is approximately 10.45% higher.  \n",
    "* With K = 1.0997, the price of the call option calculated is 0.0168. Compared to the call option market price (0.0140), the forecasted call option price is approximately 20% higher.  \n",
    "* With K = 1.1135, the price of the call option calculated is 0.0111. Compared to the call option market price (0.0082), the forecasted call option price is approximately 35.37% higher.  \n",
    "* With K = 1.1240, the price of the call option calculated is 0.0078. Compared to the call option market price (0.0052), the forecasted call option price is approximately 50% higher.  \n",
    "* With K = 1.1476, the price of the call option calculated is 0.0031. Compared to the call option market price (0.0017), the forecasted call option price is approximately 82.35% higher."
   ]
  },
  {
   "cell_type": "markdown",
   "id": "bf1d1aef-ed98-4c30-a028-261eb6b6cd10",
   "metadata": {},
   "source": [
    "# 4. Reference "
   ]
  },
  {
   "cell_type": "markdown",
   "id": "87d3e17e-97ea-47db-87db-e63c0f73c1dd",
   "metadata": {},
   "source": [
    "Cochran, W. G. (1952). The χ2 test of goodness of fit. _The Annals of mathematical statistics_, 315-345.\n",
    "\n",
    "Garman, M. B., & Kohlhagen, S. W. (1983). Foreign currency option values. _Journal of international Money and Finance_, 2(3), 231-237.\n",
    "\n",
    "Investing.com. (2023). _EUR/USD - Euro US Dollar_. Retrieved June 16, 2023 from https://www.investing.com/currencies/eur-usd-options\n",
    "\n",
    "Lyuu, Y. (2002). Financial Engineering and Computation: Principles, Mathematics, Algorithms. _Cambridge University Press_. \n",
    "\n",
    "Marathe, R. R., & Ryan, S. M. (2005). On the validity of the geometric Brownian motion assumption. _The Engineering Economist_, 50(2), 159-192.\n",
    "\n",
    "Shapiro, S. S., & Wilk, M. B. (1965). An analysis of variance test for normality (complete samples). _Biometrika_, 52(3/4), 591-611.  \n",
    "\n",
    "Thomson Reuters Eikon. (2023). _3 month Treasury bill US_. Eikon. Retrieved June 16, 2023 from https://www.refinitiv.com/en/products/eikon-trading-software"
   ]
  }
 ],
 "metadata": {
  "kernelspec": {
   "display_name": "anaconda-2022.05-py39",
   "language": "python",
   "name": "conda-env-anaconda-2022.05-py39-py"
  },
  "language_info": {
   "codemirror_mode": {
    "name": "ipython",
    "version": 3
   },
   "file_extension": ".py",
   "mimetype": "text/x-python",
   "name": "python",
   "nbconvert_exporter": "python",
   "pygments_lexer": "ipython3",
   "version": "3.9.12"
  }
 },
 "nbformat": 4,
 "nbformat_minor": 5
}
